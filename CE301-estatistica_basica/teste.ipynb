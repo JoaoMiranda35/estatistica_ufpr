{
 "cells": [
  {
   "cell_type": "code",
   "execution_count": 30,
   "metadata": {},
   "outputs": [],
   "source": [
    "\n",
    "lista = [5, 5, 5, 5, 5, 5, 5, 6, 6, 6, 6, 6, 6, 7, 8, 8]"
   ]
  },
  {
   "cell_type": "code",
   "execution_count": 31,
   "metadata": {},
   "outputs": [
    {
     "data": {
      "text/plain": [
       "16"
      ]
     },
     "execution_count": 31,
     "metadata": {},
     "output_type": "execute_result"
    }
   ],
   "source": [
    "len(lista)"
   ]
  },
  {
   "cell_type": "code",
   "execution_count": 32,
   "metadata": {},
   "outputs": [],
   "source": [
    "media = sum(lista) / len(lista)"
   ]
  },
  {
   "cell_type": "code",
   "execution_count": 33,
   "metadata": {},
   "outputs": [
    {
     "data": {
      "text/plain": [
       "5.875"
      ]
     },
     "execution_count": 33,
     "metadata": {},
     "output_type": "execute_result"
    }
   ],
   "source": [
    "media"
   ]
  },
  {
   "cell_type": "code",
   "execution_count": 34,
   "metadata": {},
   "outputs": [
    {
     "name": "stdout",
     "output_type": "stream",
     "text": [
      "1.05\n"
     ]
    }
   ],
   "source": [
    "desvios2 = []\n",
    "\n",
    "for i in lista:\n",
    "    desvio = i - media\n",
    "    desvio2 = desvio ** 2\n",
    "    desvios2.append(desvio2)\n",
    "\n",
    "variancia = sum(desvios2) / (len(desvios2) - 1)\n",
    "\n",
    "print(variancia)"
   ]
  },
  {
   "cell_type": "code",
   "execution_count": 35,
   "metadata": {},
   "outputs": [
    {
     "data": {
      "text/plain": [
       "[0.765625,\n",
       " 0.765625,\n",
       " 0.765625,\n",
       " 0.765625,\n",
       " 0.765625,\n",
       " 0.765625,\n",
       " 0.765625,\n",
       " 0.015625,\n",
       " 0.015625,\n",
       " 0.015625,\n",
       " 0.015625,\n",
       " 0.015625,\n",
       " 0.015625,\n",
       " 1.265625,\n",
       " 4.515625,\n",
       " 4.515625]"
      ]
     },
     "execution_count": 35,
     "metadata": {},
     "output_type": "execute_result"
    }
   ],
   "source": [
    "desvios2"
   ]
  }
 ],
 "metadata": {
  "kernelspec": {
   "display_name": "base",
   "language": "python",
   "name": "python3"
  },
  "language_info": {
   "codemirror_mode": {
    "name": "ipython",
    "version": 3
   },
   "file_extension": ".py",
   "mimetype": "text/x-python",
   "name": "python",
   "nbconvert_exporter": "python",
   "pygments_lexer": "ipython3",
   "version": "2021.11.undefined"
  }
 },
 "nbformat": 4,
 "nbformat_minor": 2
}
