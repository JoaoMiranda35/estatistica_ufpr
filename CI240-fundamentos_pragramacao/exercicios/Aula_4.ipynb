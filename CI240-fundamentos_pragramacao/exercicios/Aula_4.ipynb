{
 "cells": [
  {
   "cell_type": "markdown",
   "metadata": {},
   "source": [
    "(primaStr) Solicitar do usuario um texto qualquer e depois um caracter c qualquer. O\n",
    "programa entao deve mostrar o  ́ındice no texto da primeira ocorrencia de c no texto, ou\n",
    "-1, se c nao ocorre no texto\n",
    "(tamStr) Mostrar na tela o comprimento de um texto digitado pelo usuario.\n",
    "\n",
    "(compStr) Solicitar do usuario dois textos separados e indicar na tela se os textos sao iguais,\n",
    "ou se o primeiro texto digitado est ́a antes do outro considerando ordem alfabetica.\n",
    "\n",
    "(juntaStr) Solicitar do usuario dois textos separados e mostra-los na tela concatenados, isto\n",
    " ́e, os dois textos como um so, sem espaco entre eles\n",
    "\n",
    "(ultimoStr) Solicitar do usuario dois textos separados e em seguida mostrar o  ́ındice da\n",
    "ultima ocorrencia do segundo texto t no primeiro, ou -1, se o segundo texto nao ocorre\n",
    "no primeiro.\n",
    "\n",
    "(tamStr) Mostrar na tela o comprimento de um texto digitado pelo usu ́ario\n"
   ]
  },
  {
   "cell_type": "code",
   "execution_count": 1,
   "metadata": {},
   "outputs": [],
   "source": [
    "def tamstr():\n",
    "    string = input('Insira a string:')\n",
    "    print(f'O comprimento é: {len(string)}')"
   ]
  },
  {
   "cell_type": "code",
   "execution_count": 4,
   "metadata": {},
   "outputs": [
    {
     "name": "stdout",
     "output_type": "stream",
     "text": [
      "O comprimento é: 4\n"
     ]
    }
   ],
   "source": [
    "tamstr()"
   ]
  },
  {
   "cell_type": "code",
   "execution_count": 7,
   "metadata": {},
   "outputs": [],
   "source": [
    "def juntaStr():\n",
    "    string1 = input('Insira a string:')\n",
    "    string2 = input('Insira a string:')\n",
    "\n",
    "    print(f'As string concatenadas são: {string1 + string2}')"
   ]
  },
  {
   "cell_type": "code",
   "execution_count": 8,
   "metadata": {},
   "outputs": [
    {
     "name": "stdout",
     "output_type": "stream",
     "text": [
      "As string concatenadas são: a imperio é foda\n"
     ]
    }
   ],
   "source": [
    "juntaStr()"
   ]
  },
  {
   "cell_type": "code",
   "execution_count": 10,
   "metadata": {},
   "outputs": [],
   "source": [
    "def compStr():\n",
    "    string1 = input(\"Digite o primeiro texto: \")\n",
    "    string2 = input(\"Digite o segundo texto: \")\n",
    "\n",
    "    if  string1 == string2:\n",
    "        print(\"Os textos são iguais.\")\n",
    "    elif string1 < string2:\n",
    "        print(\"O primeiro texto vem antes do segundo na ordem alfabética.\")\n",
    "    else:\n",
    "        print(\"O segundo texto vem antes do primeiro na ordem alfabética.\")\n",
    "\n"
   ]
  },
  {
   "cell_type": "code",
   "execution_count": 11,
   "metadata": {},
   "outputs": [
    {
     "name": "stdout",
     "output_type": "stream",
     "text": [
      "O primeiro texto vem antes do segundo na ordem alfabética.\n"
     ]
    }
   ],
   "source": [
    "compStr()"
   ]
  },
  {
   "cell_type": "code",
   "execution_count": 12,
   "metadata": {},
   "outputs": [],
   "source": [
    "def primaStr():\n",
    "    string = input('Insira um texto:')\n",
    "    char = input('Insira um caracter:') \n",
    "\n",
    "    if char not in string:\n",
    "        print(-1)\n",
    "    else:\n",
    "        print(string.index(char))"
   ]
  },
  {
   "cell_type": "code",
   "execution_count": 13,
   "metadata": {},
   "outputs": [
    {
     "name": "stdout",
     "output_type": "stream",
     "text": [
      "3\n"
     ]
    }
   ],
   "source": [
    "primaStr()"
   ]
  }
 ],
 "metadata": {
  "kernelspec": {
   "display_name": "Python 3",
   "language": "python",
   "name": "python3"
  },
  "language_info": {
   "codemirror_mode": {
    "name": "ipython",
    "version": 3
   },
   "file_extension": ".py",
   "mimetype": "text/x-python",
   "name": "python",
   "nbconvert_exporter": "python",
   "pygments_lexer": "ipython3",
   "version": "3.10.0"
  }
 },
 "nbformat": 4,
 "nbformat_minor": 2
}
