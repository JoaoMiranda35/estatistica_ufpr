{
 "cells": [
  {
   "cell_type": "markdown",
   "metadata": {},
   "source": [
    "# Lista 2\n",
    "\n",
    "3.5 Exercıcios de fixacao\n",
    "1. (media) Faça um programa para calcular a media aritmetica de 4 valores reais informados\n",
    "pelo usuario.\n",
    "\n",
    "2. (idadeAnos2dias) Faca um programa que obtenha do usuario a sua idade expressa em anos,\n",
    "meses e dias e mostre-a expressa apenas em dias. Considere que 1 ano sempre tem 365\n",
    "dias e que 1 mes sempre tem 30 dias.\n",
    "\n",
    "3. (idadeDias2anos) Faca um programa que obtenha do usuario a sua idade expressa em dias,\n",
    "e indique na tela a sua idade em anos, meses e dias.Considere que 1 ano sempre tem 365\n",
    "dias e que 1 mes sempre tem 30 dias.\n",
    "\n",
    "4. (segundos2horas) Faca programa que leia o tempo de duracao de um exame expresso em\n",
    "segundos e mostre este tempo expresso em horas, minutos e segundos.\n",
    "\n",
    "5. (convFarenheit) Fazer um programa que le um numero representando uma temperatura\n",
    "na escala Celsius e escreve a correspondente temperatura na escala Farenheit.\n",
    "\n",
    "6. (mediaPond) Faca um programa que leia 3 notas de um aluno e calcule a media final\n",
    "deste aluno. Considerar que a media e ponderada e que o peso das notas e 2, 3 e 5\n",
    "respectivamente.\n",
    "\n",
    "1. (convKm) Fazer um programa que le um numero representando uma velocidade em km/h\n",
    "e escreve a correspondente velocidade em ml/h.\n",
    "3.\n",
    "\n",
    "2. (eqGrau1) Fazer um programa que le 2 numeros, a 6= 0 e b e escreve a solucao da equacao\n",
    "ax = b.\n",
    "\n",
    "3. (eqSist) Fazer um programa que le 6 numeros, a1,1, a1,2, b1, a2,1, a2,2 e b2 e escreve uma\n",
    "solucao do sistema de equacoes"
   ]
  },
  {
   "cell_type": "code",
   "execution_count": 1,
   "metadata": {},
   "outputs": [],
   "source": [
    "def media():\n",
    "    x1 = int(input('insira o primeiro numero:'))\n",
    "    x2 = int(input('insira o segundo numero:'))\n",
    "    x3 = int(input('insira o terceiro numero:'))\n",
    "    x4 = int(input('insira o quarto numero:'))\n",
    "    soma = x1 + x2 + x3 + x4 \n",
    "    media = soma / 4\n",
    "    print(f'A media é: {media}')"
   ]
  },
  {
   "cell_type": "code",
   "execution_count": 2,
   "metadata": {},
   "outputs": [
    {
     "name": "stdout",
     "output_type": "stream",
     "text": [
      "A media é: 2.25\n"
     ]
    }
   ],
   "source": [
    "media()"
   ]
  },
  {
   "cell_type": "code",
   "execution_count": 5,
   "metadata": {},
   "outputs": [],
   "source": [
    "def idadeAnos2dias():\n",
    "    anos = int(input('Quantos anos voce tem?'))\n",
    "    meses = int(input('Quantos meses?'))\n",
    "    dias = int(input('Quantos dias?'))\n",
    "\n",
    "    total_dias = anos * 365 + meses * 30 + dias\n",
    "    print(f'Sua idade em dias é: {total_dias} dias')"
   ]
  },
  {
   "cell_type": "code",
   "execution_count": 6,
   "metadata": {},
   "outputs": [
    {
     "name": "stdout",
     "output_type": "stream",
     "text": [
      "Sua idade em dias é: 8365 dias\n"
     ]
    }
   ],
   "source": [
    "idadeAnos2dias()"
   ]
  },
  {
   "cell_type": "code",
   "execution_count": 7,
   "metadata": {},
   "outputs": [],
   "source": [
    "def idadeDias2anos():\n",
    "    idade_em_dias = int(input('Quantos anos voce tem em dias?'))\n",
    "    \n",
    "    anos = idade_em_dias // 365\n",
    "    meses = (idade_em_dias % 365) // 30\n",
    "    dias = (idade_em_dias % 365) % 30\n",
    "\n",
    "    print(f'Voce tem : {anos} anos, {meses} meses e {dias} dias')"
   ]
  },
  {
   "cell_type": "code",
   "execution_count": 9,
   "metadata": {},
   "outputs": [
    {
     "name": "stdout",
     "output_type": "stream",
     "text": [
      "Voce tem : 22 anos, 11 meses e 5 dias\n"
     ]
    }
   ],
   "source": [
    "idadeDias2anos()"
   ]
  },
  {
   "cell_type": "code",
   "execution_count": 10,
   "metadata": {},
   "outputs": [],
   "source": [
    "def segundos2horas():\n",
    "    duracao_em_segundos = int(input('Quantos segundos levou o exame'))\n",
    "    horas = duracao_em_segundos // 3600\n",
    "    minutos = (duracao_em_segundos % 3600) // 60\n",
    "    segundos = (duracao_em_segundos % 365) % 60 \n",
    "    \n",
    "    print(f'O exame durou: {horas} horas, {minutos} minutos e {segundos} segundos')"
   ]
  },
  {
   "cell_type": "code",
   "execution_count": 13,
   "metadata": {},
   "outputs": [
    {
     "name": "stdout",
     "output_type": "stream",
     "text": [
      "O exame durou: 133 horas, 1 minutos e 26 segundos\n"
     ]
    }
   ],
   "source": [
    "segundos2horas()"
   ]
  },
  {
   "cell_type": "code",
   "execution_count": 14,
   "metadata": {},
   "outputs": [],
   "source": [
    "def convFarenheit():\n",
    "    celcius = int(input('Qual a tempura em Celcius?'))\n",
    "    farenheit = celcius * 1.8 + 32\n",
    "    \n",
    "    print(f'A temperatura em Farenheit é de: {farenheit}')"
   ]
  },
  {
   "cell_type": "code",
   "execution_count": 15,
   "metadata": {},
   "outputs": [
    {
     "name": "stdout",
     "output_type": "stream",
     "text": [
      "A tempura em Farenheit é de: 89.6\n"
     ]
    }
   ],
   "source": [
    "convFarenheit()"
   ]
  },
  {
   "cell_type": "code",
   "execution_count": 18,
   "metadata": {},
   "outputs": [],
   "source": [
    "def mediaPond():\n",
    "    nota_1 = int(input('Qual a primeira nota:'))\n",
    "    nota_2 = int(input('Qual a segunda nota:'))\n",
    "    nota_3 = int(input('Qual a terceira nota:'))\n",
    "    \n",
    "    pesos = [2,3,5]\n",
    "    soma = nota_1 * pesos[0] + nota_2 * pesos[1] + nota_3 * pesos[2]\n",
    "    media = soma / sum(pesos)\n",
    "\n",
    "    print(f'A media é: {media}')"
   ]
  },
  {
   "cell_type": "code",
   "execution_count": 19,
   "metadata": {},
   "outputs": [
    {
     "name": "stdout",
     "output_type": "stream",
     "text": [
      "A media é: 7.3\n"
     ]
    }
   ],
   "source": [
    "mediaPond()"
   ]
  },
  {
   "cell_type": "code",
   "execution_count": 1,
   "metadata": {},
   "outputs": [],
   "source": [
    "def convKm():\n",
    "    km_h = int(input('Quantos kilometros por hora'))\n",
    "    m_s = km_h // 3.6\n",
    "\n",
    "    print(f'Isso representa: {m_s} metros por segundo')"
   ]
  },
  {
   "cell_type": "code",
   "execution_count": 2,
   "metadata": {},
   "outputs": [
    {
     "name": "stdout",
     "output_type": "stream",
     "text": [
      "Isso representa: 16.0 metros por segundo\n"
     ]
    }
   ],
   "source": [
    "convKm()"
   ]
  }
 ],
 "metadata": {
  "kernelspec": {
   "display_name": "Python 3",
   "language": "python",
   "name": "python3"
  },
  "language_info": {
   "codemirror_mode": {
    "name": "ipython",
    "version": 3
   },
   "file_extension": ".py",
   "mimetype": "text/x-python",
   "name": "python",
   "nbconvert_exporter": "python",
   "pygments_lexer": "ipython3",
   "version": "3.10.0"
  }
 },
 "nbformat": 4,
 "nbformat_minor": 2
}
