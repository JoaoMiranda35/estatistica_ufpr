{
 "cells": [
  {
   "cell_type": "markdown",
   "metadata": {},
   "source": [
    "(calcnota) Escrever um programa que le o numero de identificacao, as 3 notas obtidas por\n",
    "um aluno em 3 provas e a media dos exercicios (ME) que fazem parte da avaliacao. \n",
    "Calcular a media de aproveitamento, usando a formula:\n",
    "MA = (Nota1 + Nota2 ×2 + Nota3 ×3 + ME)/7\n",
    "A atribuicao de conceitos obedece a tabela abaixo:\n",
    "\n",
    "Media de Aproveitamento Conceito\n",
    "| Média   | Conceito | \n",
    "|---------|-------|\n",
    "| media > 90   | A   |\n",
    "| 75 < media <= 90  | B  | \n",
    "| 60 < media <= 75  | C    |\n",
    "| 40 < media <= 60  | D    |\n",
    "|  media <= 40 | E    |\n",
    "\n",
    "O programa deve escrever o numero do aluno, suas notas, a media dos exercicios, a media\n",
    "de aproveitamento, o conceito correspondente e a mensagem: APROVADO se o conceito\n",
    "for A,B ou C e REPROVADO se o conceito for D ou E."
   ]
  },
  {
   "cell_type": "code",
   "execution_count": null,
   "metadata": {},
   "outputs": [],
   "source": [
    "def calcnota(id,nota1,nota2,nota3,me):\n",
    "    ma = nota1 + nota2 * 2 + nota3 * 3 + me / 7\n",
    "\n",
    "    if ma > 90:\n",
    "        conceito = 'A'\n",
    "    elif ma > 75:\n",
    "        conceito = 'B'\n",
    "    eldi\n",
    "\n",
    "    \n",
    "\n",
    "    \n",
    "    print('-------------------')\n",
    "    print(f'id do aluno{id}')\n",
    "    print()\n"
   ]
  }
 ],
 "metadata": {
  "kernelspec": {
   "display_name": "Python 3",
   "language": "python",
   "name": "python3"
  },
  "language_info": {
   "codemirror_mode": {
    "name": "ipython",
    "version": 3
   },
   "file_extension": ".py",
   "mimetype": "text/x-python",
   "name": "python",
   "nbconvert_exporter": "python",
   "pygments_lexer": "ipython3",
   "version": "3.10.0"
  }
 },
 "nbformat": 4,
 "nbformat_minor": 2
}
