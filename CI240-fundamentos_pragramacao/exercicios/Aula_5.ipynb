{
 "cells": [
  {
   "cell_type": "markdown",
   "metadata": {},
   "source": [
    "(calcnota) Escrever um programa que le o numero de identificacao, as 3 notas obtidas por\n",
    "um aluno em 3 provas e a media dos exercicios (ME) que fazem parte da avaliacao. \n",
    "Calcular a media de aproveitamento, usando a formula:\n",
    "MA = (Nota1 + Nota2 ×2 + Nota3 ×3 + ME)/7\n",
    "A atribuicao de conceitos obedece a tabela abaixo:\n",
    "\n",
    "Media de Aproveitamento Conceito\n",
    "| Média   | Conceito | \n",
    "|---------|-------|\n",
    "| media > 90   | A   |\n",
    "| 75 < media <= 90  | B  | \n",
    "| 60 < media <= 75  | C    |\n",
    "| 40 < media <= 60  | D    |\n",
    "|  media <= 40 | E    |\n",
    "\n",
    "O programa deve escrever o numero do aluno, suas notas, a media dos exercicios, a media\n",
    "de aproveitamento, o conceito correspondente e a mensagem: APROVADO se o conceito\n",
    "for A,B ou C e REPROVADO se o conceito for D ou E."
   ]
  },
  {
   "cell_type": "code",
   "execution_count": 15,
   "metadata": {},
   "outputs": [],
   "source": [
    "def calcnota(id,nota1,nota2,nota3,me):\n",
    "    ma = (nota1 + nota2 * 2 + nota3 * 3 + me) / 7\n",
    "\n",
    "    if ma > 90:\n",
    "        conceito = 'A'\n",
    "    elif ma > 75:\n",
    "        conceito = 'B'\n",
    "    elif ma > 60:\n",
    "        conceito = 'C'\n",
    "    elif ma > 40:\n",
    "        conceito = 'D'\n",
    "    else:\n",
    "        conceito = 'E'\n",
    "\n",
    "\n",
    "    if conceito in ['A','B','C']:\n",
    "        resultado = 'APROVADO'\n",
    "    else:\n",
    "        resultado = 'REPROVADO'\n",
    "\n",
    "    \n",
    "    print('-------------------')\n",
    "    print(f'id do aluno: {id}')\n",
    "    print(f'nota1: {nota1}, nota2: {nota2}, nota3: {nota3}')\n",
    "    print(f'média dos exercicios: {me}')\n",
    "    print(f'média de aproveitamento: {round(ma,2)}')\n",
    "    print(f'Conceito: {conceito}')\n",
    "    print(f'Resultado: {resultado}')\n",
    "\n",
    "\n"
   ]
  },
  {
   "cell_type": "code",
   "execution_count": 16,
   "metadata": {},
   "outputs": [
    {
     "name": "stdout",
     "output_type": "stream",
     "text": [
      "-------------------\n",
      "id do aluno: 1\n",
      "nota1: 76, nota2: 70, nota3: 30\n",
      "média dos exercicios: 45\n",
      "média de aproveitamento: 50.14\n",
      "Conceito: D\n",
      "Resultado: REPROVADO\n"
     ]
    }
   ],
   "source": [
    "calcnota('1',76,70,30,45)"
   ]
  },
  {
   "cell_type": "markdown",
   "metadata": {},
   "source": [
    "(medias) Um usuario deseja um programa onde possa escolher que tipo de media deseja\n",
    "calcular a partir de 3 notas. Faca um programa que leia as notas, a opcao escolhida pelo\n",
    "usuario e calcule as medias:\n",
    "\n",
    "+ aritmetica\n",
    "+ ponderada (pesos 3, 3 e 4)\n",
    "+ harmonica (definida como sendo o numero de termos dividido pela soma dos inversos\n",
    "de cada termo)"
   ]
  },
  {
   "cell_type": "code",
   "execution_count": 21,
   "metadata": {},
   "outputs": [],
   "source": [
    "def media(nota1,nota2,nota3,tipo):\n",
    "\n",
    "    if tipo == 'aritmetica':\n",
    "\n",
    "        media = (nota1 + nota2 + nota3) / 3\n",
    "        print(media)\n",
    "    elif tipo == 'ponderada':\n",
    "\n",
    "        media = (nota1 * 3  + nota2 * 3 + nota3 * 4) / 10\n",
    "        print(media)\n",
    "    else:\n",
    "        media = 3 / (1/nota1 + 1/nota2 + 1/nota3)\n",
    "        print(media)\n",
    "\n"
   ]
  },
  {
   "cell_type": "code",
   "execution_count": 22,
   "metadata": {},
   "outputs": [
    {
     "name": "stdout",
     "output_type": "stream",
     "text": [
      "7.1\n"
     ]
    }
   ],
   "source": [
    "media(6,7,8,'ponderada')"
   ]
  },
  {
   "cell_type": "markdown",
   "metadata": {},
   "source": [
    "(achamaior) Escreva um programa que leia 3 numeros inteiros e mostre o maior deles."
   ]
  },
  {
   "cell_type": "code",
   "execution_count": 25,
   "metadata": {},
   "outputs": [],
   "source": [
    "def achamaior(n1,n2,n3):\n",
    "    lista = [n1,n2,n3]\n",
    "\n",
    "    print(max(lista, key=int))"
   ]
  },
  {
   "cell_type": "code",
   "execution_count": 26,
   "metadata": {},
   "outputs": [
    {
     "name": "stdout",
     "output_type": "stream",
     "text": [
      "3\n"
     ]
    }
   ],
   "source": [
    "achamaior(1,2,3)"
   ]
  },
  {
   "cell_type": "markdown",
   "metadata": {},
   "source": [
    "(pesoideal) Tendo como dados de entrada a altura e o sexo de uma pessoa (M masculino\n",
    "e F feminino), construa um programa que calcule seu peso ideal, utilizando as seguintes\n",
    "formulas:\n",
    "\n",
    "+ para homens: (72.7 ∗h) −58\n",
    "+ para mulheres: (62.1 ∗h) −44.7"
   ]
  },
  {
   "cell_type": "code",
   "execution_count": 27,
   "metadata": {},
   "outputs": [],
   "source": [
    "def peso_ideal(altura,genero):\n",
    "    if genero == 'M':\n",
    "        peso = (72.7 * altura) - 58\n",
    "        print(peso)\n",
    "    else:\n",
    "        peso = (62.1 * altura) - 44.7\n",
    "        print(peso)       \n"
   ]
  },
  {
   "cell_type": "code",
   "execution_count": 31,
   "metadata": {},
   "outputs": [
    {
     "name": "stdout",
     "output_type": "stream",
     "text": [
      "65.59\n"
     ]
    }
   ],
   "source": [
    "peso_ideal(1.7,'M')"
   ]
  },
  {
   "cell_type": "markdown",
   "metadata": {},
   "source": [
    "(credito) Um banco concedera um credito especial aos seus clientes, variavel com o saldo\n",
    "medio no  ́ultimo ano. Faca um programa que leia o saldo medio de um cliente e calcule\n",
    "o valor do credito de acordo com a tabela abaixo. Mostre uma mensagem informando o\n",
    "saldo medio e o valor do credito.\n",
    "\n",
    "\n",
    "| Saldo medio   | Percentual | \n",
    "|---------|-------|\n",
    "| de 0 a 200 | nenhum credito   |\n",
    "| de 201 a 400 | 20% do valor do saldo medio | \n",
    "| de 401 a 600 | 30% do valor do saldo medio    |\n",
    "| acima de 601 | 40% do valor do saldo medio    |\n"
   ]
  },
  {
   "cell_type": "code",
   "execution_count": 32,
   "metadata": {},
   "outputs": [],
   "source": [
    "def credito(saldo_medio):\n",
    "    if saldo_medio > 600:\n",
    "        print(r'40% do valor do saldo medio')\n",
    "    elif saldo_medio > 400:\n",
    "        print(r'30% do valor do saldo medio')\n",
    "    elif saldo_medio > 200:\n",
    "        print(r'20% do valor do saldo medio')\n",
    "    else:\n",
    "        print('nenhum credito')\n",
    "\n",
    "    "
   ]
  },
  {
   "cell_type": "code",
   "execution_count": 34,
   "metadata": {},
   "outputs": [
    {
     "name": "stdout",
     "output_type": "stream",
     "text": [
      "40% do valor do saldo medio\n"
     ]
    }
   ],
   "source": [
    "credito(800)"
   ]
  },
  {
   "cell_type": "markdown",
   "metadata": {},
   "source": [
    "(onibus) Escreva programa que pergunte a distancia em km que um passageiro deseja percorrer e calcule o preco da passagem, cobrando R$ 0,53 por km para viagens de ate 200\n",
    "km e R$ 0,47/km para viagens mais longas.\n"
   ]
  },
  {
   "cell_type": "code",
   "execution_count": 3,
   "metadata": {},
   "outputs": [],
   "source": [
    "def onibus(distancia):\n",
    "\n",
    "    if distancia >= 200:\n",
    "        preco = distancia * 0.53\n",
    "        print(preco)\n",
    "    else:\n",
    "        preco = distancia * 0.47\n",
    "        print(preco)\n"
   ]
  },
  {
   "cell_type": "code",
   "execution_count": 4,
   "metadata": {},
   "outputs": [
    {
     "name": "stdout",
     "output_type": "stream",
     "text": [
      "265.0\n"
     ]
    }
   ],
   "source": [
    "onibus(500)"
   ]
  }
 ],
 "metadata": {
  "kernelspec": {
   "display_name": "Python 3",
   "language": "python",
   "name": "python3"
  },
  "language_info": {
   "codemirror_mode": {
    "name": "ipython",
    "version": 3
   },
   "file_extension": ".py",
   "mimetype": "text/x-python",
   "name": "python",
   "nbconvert_exporter": "python",
   "pygments_lexer": "ipython3",
   "version": "3.10.0"
  }
 },
 "nbformat": 4,
 "nbformat_minor": 2
}
