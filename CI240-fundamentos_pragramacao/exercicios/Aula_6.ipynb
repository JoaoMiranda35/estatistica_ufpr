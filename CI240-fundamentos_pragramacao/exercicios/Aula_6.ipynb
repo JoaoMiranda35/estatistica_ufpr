{
 "cells": [
  {
   "cell_type": "code",
   "execution_count": 11,
   "metadata": {},
   "outputs": [],
   "source": [
    "def func1(k,n):\n",
    "    x = 0\n",
    "    for i in range(1,n+1):\n",
    "        if i % k == 0:\n",
    "            x = i + x\n",
    "            print(x)\n",
    "        else:\n",
    "            pass"
   ]
  },
  {
   "cell_type": "code",
   "execution_count": 15,
   "metadata": {},
   "outputs": [
    {
     "name": "stdout",
     "output_type": "stream",
     "text": [
      "9\n"
     ]
    }
   ],
   "source": [
    "n = int(input('Insira o número:'))\n",
    "c = 0 \n",
    "\n",
    "while n != 0:\n",
    "    c = c + 1\n",
    "    n = int(input('Insira o número:'))\n",
    "print(c)"
   ]
  },
  {
   "cell_type": "code",
   "execution_count": 10,
   "metadata": {},
   "outputs": [],
   "source": [
    "import math\n",
    "\n",
    "def dp():\n",
    "    lista = []\n",
    "    n = int(input('insira o numero:'))\n",
    "    while n!= 0:\n",
    "        n = int(input('insira o numero:'))\n",
    "        lista.append(n)\n",
    "    if len(lista) != 0:\n",
    "        lista_2 = []\n",
    "        media = sum(lista) / len(lista)\n",
    "        for i in lista:\n",
    "            desvio = i - media\n",
    "            desvio_2 = desvio ** 2\n",
    "            lista_2.append(desvio_2)\n",
    "\n",
    "        desv_pad = sum(lista_2) / len(lista_2)\n",
    "        print(desv_pad)\n"
   ]
  },
  {
   "cell_type": "code",
   "execution_count": 12,
   "metadata": {},
   "outputs": [
    {
     "name": "stdout",
     "output_type": "stream",
     "text": [
      "7.163580246913581\n"
     ]
    }
   ],
   "source": [
    "dp()"
   ]
  }
 ],
 "metadata": {
  "kernelspec": {
   "display_name": "base",
   "language": "python",
   "name": "python3"
  },
  "language_info": {
   "codemirror_mode": {
    "name": "ipython",
    "version": 3
   },
   "file_extension": ".py",
   "mimetype": "text/x-python",
   "name": "python",
   "nbconvert_exporter": "python",
   "pygments_lexer": "ipython3",
   "version": "2021.11.undefined"
  }
 },
 "nbformat": 4,
 "nbformat_minor": 2
}
