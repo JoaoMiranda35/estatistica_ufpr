{
 "cells": [
  {
   "cell_type": "markdown",
   "metadata": {},
   "source": [
    "1. (eq2grau) Fazer um programa que le 3 numeros, a, b e c satisfazendo b2 > 4ac e escreve as\n",
    "solucoes da equacao ax2 + bx + c = 0.\n",
    "\n",
    "2. (distpontos) Construa um programa que, tendo como dados de entrada dois pontos quais-\n",
    "quer no plano, P(x1,y1) e P(x2,y2), escreva a distancia entre eles. A formula que efetua tal calculo  ́e:\n",
    "d = √(x2 −x1)2 + (y2 −y1)2\n",
    "\n",
    "3. (degraus) Cada degrau de uma escada tem X de altura. Faca um programa que receba\n",
    "esta altura em centimetros e a altura em metros que o usuario deseja alcancar subindo a\n",
    "escada, calcule e mostre quantos degraus ele dever ́a subir para atingir seu objetivo, sem se\n",
    "preocupar com a altura do usuario.\n"
   ]
  },
  {
   "cell_type": "code",
   "execution_count": 1,
   "metadata": {},
   "outputs": [],
   "source": [
    "from math import *"
   ]
  },
  {
   "cell_type": "code",
   "execution_count": 6,
   "metadata": {},
   "outputs": [],
   "source": [
    "def eq2grau(a,b,c):\n",
    "    \n",
    "    delta = b**2 - 4*a*c\n",
    "\n",
    "    if delta < 0:\n",
    "        print('A equação não possui raizes reais')\n",
    "\n",
    "    elif delta == 0:\n",
    "        r = ((-1*b) + sqrt(delta)) //2*a\n",
    "\n",
    "        print('A equação possui a raiz',r)\n",
    "\n",
    "    else:\n",
    "        r1 = ((-1*b) + sqrt(delta))//2*a\n",
    "        \n",
    "        r2 = ((-1*b) - sqrt(delta))//2*a\n",
    "        \n",
    "        print('As raizes são',r1,r2)"
   ]
  },
  {
   "cell_type": "code",
   "execution_count": 7,
   "metadata": {},
   "outputs": [
    {
     "name": "stdout",
     "output_type": "stream",
     "text": [
      "As raizes são -4.0 -14.0\n"
     ]
    }
   ],
   "source": [
    "eq2grau(2,8,4)"
   ]
  },
  {
   "cell_type": "code",
   "execution_count": 19,
   "metadata": {},
   "outputs": [],
   "source": [
    "def distpontos(x1,y1,x2,y2):\n",
    "    \n",
    "\n",
    "    distancia = sqrt((x2-x1) **2 + (y2-y1) **2)\n",
    "    \n",
    "    print(f'A distancia dos pontos é {distancia}')"
   ]
  },
  {
   "cell_type": "code",
   "execution_count": 20,
   "metadata": {},
   "outputs": [
    {
     "name": "stdout",
     "output_type": "stream",
     "text": [
      "A distancia dos pontos é 23.345235059857504\n"
     ]
    }
   ],
   "source": [
    "distpontos(25,-7,9,10)"
   ]
  },
  {
   "cell_type": "code",
   "execution_count": 24,
   "metadata": {},
   "outputs": [],
   "source": [
    "def calcular_degraus(degrau, altura):\n",
    "    degrau_m = degrau / 100  \n",
    "    degraus = altura // degrau_m\n",
    "    return degraus\n",
    "    "
   ]
  },
  {
   "cell_type": "code",
   "execution_count": 25,
   "metadata": {},
   "outputs": [
    {
     "data": {
      "text/plain": [
       "11.0"
      ]
     },
     "execution_count": 25,
     "metadata": {},
     "output_type": "execute_result"
    }
   ],
   "source": [
    "calcular_degraus(60,7)"
   ]
  }
 ],
 "metadata": {
  "kernelspec": {
   "display_name": "Python 3",
   "language": "python",
   "name": "python3"
  },
  "language_info": {
   "codemirror_mode": {
    "name": "ipython",
    "version": 3
   },
   "file_extension": ".py",
   "mimetype": "text/x-python",
   "name": "python",
   "nbconvert_exporter": "python",
   "pygments_lexer": "ipython3",
   "version": "3.10.0"
  }
 },
 "nbformat": 4,
 "nbformat_minor": 2
}
