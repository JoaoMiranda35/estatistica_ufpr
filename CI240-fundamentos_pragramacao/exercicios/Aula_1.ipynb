{
 "cells": [
  {
   "cell_type": "markdown",
   "metadata": {},
   "source": [
    "# Lista 1"
   ]
  },
  {
   "cell_type": "markdown",
   "metadata": {},
   "source": [
    "<!-- -*- coding: utf-8 -*- -->\n",
    "2.7 Exercıcios\n",
    "2. Esboçar os algoritmos (usando Python ) que resolvem os problemas abaixo:\n",
    "\n",
    "(a) Mostrar a soma de dois numeros informados pelo usuario;\n",
    "\n",
    "(b) Mostrar a media aritmetica de tres numeros informados pelo usuario;\n",
    "\n",
    "(c) Calcular a raiz de uma equacao de 2o grau, cujos coeficientes sao informados pelo\n",
    "usuario.\n"
   ]
  },
  {
   "cell_type": "code",
   "execution_count": 1,
   "metadata": {},
   "outputs": [
    {
     "name": "stdout",
     "output_type": "stream",
     "text": [
      "a soma dos dois números é 5\n"
     ]
    }
   ],
   "source": [
    "# Exercicio A\n",
    "\n",
    "x = int(input(\"Informe o primeiro número:\"))\n",
    "y = int(input(\"Informe o segundo número:\"))\n",
    "\n",
    "print(f'a soma dos dois números é {x+y}')"
   ]
  },
  {
   "cell_type": "code",
   "execution_count": 2,
   "metadata": {},
   "outputs": [
    {
     "name": "stdout",
     "output_type": "stream",
     "text": [
      "a média dos três números é 3.0\n"
     ]
    }
   ],
   "source": [
    "# Exercicio B\n",
    "x = int(input(\"Informe o primeiro número:\"))\n",
    "y = int(input(\"Informe o segundo número:\"))\n",
    "z = int(input(\"Informe o terceiro número:\"))\n",
    "\n",
    "print(f'a média dos três números é {(x+y+z)/3}')"
   ]
  },
  {
   "cell_type": "code",
   "execution_count": 8,
   "metadata": {},
   "outputs": [
    {
     "name": "stdout",
     "output_type": "stream",
     "text": [
      "As raizes são -2.0 -4.0\n"
     ]
    }
   ],
   "source": [
    "# Exercicio 3 \n",
    "import math\n",
    "\n",
    "a = int(input (\"Informe o valor de a: \" ))\n",
    "b = int(input (\"Informe o valor de b: \" ))\n",
    "c = int(input (\"Informe o valor de c: \" ))\n",
    "\n",
    "delta = b**2 - 4*a*c\n",
    "\n",
    "if delta < 0:\n",
    "    print('A equação não possui raizes reais')\n",
    "\n",
    "elif delta == 0:\n",
    "    r = ((-1*b) + math.sqrt(delta))//2*a\n",
    "\n",
    "    print('A equação possui a raiz',r)\n",
    "\n",
    "else:\n",
    "    r1 = ((-1*b) + math.sqrt(delta))//2*a\n",
    "    \n",
    "    r2 = ((-1*b)- math.sqrt(delta))//2*a\n",
    "    \n",
    "    print('As raizes são',r1,r2)\n"
   ]
  }
 ],
 "metadata": {
  "kernelspec": {
   "display_name": "base",
   "language": "python",
   "name": "python3"
  },
  "language_info": {
   "codemirror_mode": {
    "name": "ipython",
    "version": 3
   },
   "file_extension": ".py",
   "mimetype": "text/x-python",
   "name": "python",
   "nbconvert_exporter": "python",
   "pygments_lexer": "ipython3",
   "version": "3.9.18"
  }
 },
 "nbformat": 4,
 "nbformat_minor": 2
}
