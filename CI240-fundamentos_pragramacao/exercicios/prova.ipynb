{
 "cells": [
  {
   "cell_type": "code",
   "execution_count": 71,
   "metadata": {},
   "outputs": [
    {
     "name": "stdout",
     "output_type": "stream",
     "text": [
      "['012\\n', '014\\n', '035']\n"
     ]
    }
   ],
   "source": [
    "with open('matriz.txt','r') as file:\n",
    "    arquivo = file.readlines()\n",
    "print(arquivo)\n"
   ]
  },
  {
   "cell_type": "markdown",
   "metadata": {},
   "source": [
    "Escreva um programa em Python que faz a leitura de uma matriz quadrada de números inteiros de tamanho 3 x 3. O programa faz essa leitura através de uma função chamada Le_Matriz(), que faz a leitura dos dados a partir do arquivo “Dados_Matriciais.txt”, devolvendo ao programa a matriz lida. A função Le_Matriz precisa ser desenvolvida, e no final da leitura dos dados deverá imprimir na tela o conteudo da matriz, cfme exemplo. Os dados do arquivo são 3 linhas de texto, contendo 3 números inteiros. A função Le_Matriz não recebe parâmetro, mas devolve a matriz.\n",
    "\n",
    "O programa deverá alterar os dados da matriz lida usando a função Processa_Matriz, que recebe (e altera) a matriz como parâmetro de entrada. A função Processa_Matriz deve alterar para valor 0 todas as posições cujo valor original seja maior que o VMLA (valor médio da linha anterior). Considere VMLA = 5 para alterar os valores da primeira linha da matriz, pois ela não tem linha anterior. A função Processa_Matriz altera a matriz de entrada e não retorna nenhum valor.\n",
    "\n",
    " \n",
    "\n",
    "Ao final, o programa deverá imprimir o resultado através de uma função chamada Imprime_Matriz, que recebe como parâmetro a matriz e a imprime."
   ]
  },
  {
   "cell_type": "code",
   "execution_count": 18,
   "metadata": {},
   "outputs": [],
   "source": [
    "def Le_Matriz():\n",
    "    with open('matriz.txt','r') as file:\n",
    "        matriz = file.read()\n",
    "    print(matriz)\n",
    "    return matriz\n",
    "matriz = Le_Matriz\n",
    "\n",
    "\n",
    "def Processa_Matriz(matriz):\n"
   ]
  },
  {
   "cell_type": "code",
   "execution_count": 68,
   "metadata": {},
   "outputs": [],
   "source": [
    "lista = []\n",
    "\n",
    "for i in arquivo:\n",
    "    for k in i:\n",
    "        try:\n",
    "            k = int(k)\n",
    "            lista.append(k)\n",
    "        except:\n",
    "            pass\n",
    "matriz = (lista[0:3],lista[3:6],lista[6:9])"
   ]
  },
  {
   "cell_type": "code",
   "execution_count": 69,
   "metadata": {},
   "outputs": [
    {
     "name": "stdout",
     "output_type": "stream",
     "text": [
      "2\n",
      "[0, 1, 0]\n",
      "1\n",
      "4\n",
      "[0, 0, 0]\n",
      "3\n",
      "5\n",
      "[0, 0, 0]\n",
      "([0, 1, 0], [0, 0, 0], [0, 0, 0])\n"
     ]
    }
   ],
   "source": [
    "vlm = 1\n",
    "for i in matriz:\n",
    "    for k in i:\n",
    "        if k > vlm:\n",
    "            matriz[matriz.index(i)][i.index(k)] = 0\n",
    "            print(k)\n",
    "        else:\n",
    "            pass\n",
    "    print(i)\n",
    "    vlm = sum(i) / len(i)\n",
    "print(matriz)\n"
   ]
  },
  {
   "cell_type": "code",
   "execution_count": 66,
   "metadata": {},
   "outputs": [
    {
     "name": "stdout",
     "output_type": "stream",
     "text": [
      "0\n",
      "1\n",
      "2\n"
     ]
    }
   ],
   "source": [
    "for i in matriz:\n",
    "    print(matriz.index(i))"
   ]
  },
  {
   "cell_type": "code",
   "execution_count": 2,
   "metadata": {},
   "outputs": [
    {
     "name": "stdout",
     "output_type": "stream",
     "text": [
      "Resultados\n",
      "Candidato 1:  5  votos\n",
      "Candidato 2:  4  votos\n",
      "Candidato 3:  6  votos\n",
      "Votos Nulos:  2  votos\n",
      "Votos em branco:  2  votos\n",
      "Total de votos:  19  votos\n"
     ]
    }
   ],
   "source": [
    "presente1=presente2=presente3=VotosBranco=VotosNulo=0\n",
    "Voto = int(input('Informe seu voto:'))\n",
    "while Voto:\n",
    "    if Voto == 11:\n",
    "        presente1 = presente1 +1\n",
    "    elif Voto == 12:\n",
    "        presente2 = presente2 +1\n",
    "    elif Voto == 13:\n",
    "        presente3 = presente3 +1\n",
    "    elif Voto == 1:\n",
    "        VotosNulo = VotosNulo +1\n",
    "    else:\n",
    "        VotosBranco = VotosBranco +1\n",
    "    Voto = int(input('Informe seu voto:'))\n",
    "\n",
    "print ('Resultados')\n",
    "\n",
    "print ('Candidato 1: ', presente1,' votos')\n",
    "\n",
    "print ('Candidato 2: ', presente2,' votos')\n",
    "\n",
    "print ('Candidato 3: ', presente3,' votos')\n",
    "\n",
    "print ('Votos Nulos: ', VotosNulo,' votos')\n",
    "\n",
    "print ('Votos em branco: ', VotosBranco,' votos')\n",
    "\n",
    "print ('Total de votos: ', presente1 + presente2 + presente3 +\n",
    "\n",
    "                                   VotosNulo      + VotosBranco, ' votos')\n"
   ]
  },
  {
   "cell_type": "code",
   "execution_count": 6,
   "metadata": {},
   "outputs": [
    {
     "name": "stdout",
     "output_type": "stream",
     "text": [
      "1\n",
      "2\n",
      "3\n"
     ]
    }
   ],
   "source": [
    "for j in range(1,4):\n",
    "    print(j)"
   ]
  },
  {
   "cell_type": "code",
   "execution_count": null,
   "metadata": {},
   "outputs": [],
   "source": [
    "def Le_Matriz(): \n",
    "\n",
    "    print ('Digite a matriz 3x3:') \n",
    "\n",
    "    Matriz = [] \n",
    "\n",
    "    for L in range (3): \n",
    "\n",
    "        Linha = input().split() \n",
    "\n",
    "        for i in range(3): \n",
    "\n",
    "            Linha[i] = int(Linha[i]) \n",
    "\n",
    "        Matriz.append(Linha) \n",
    "\n",
    "    return Matriz \n",
    "\n",
    " \n",
    "\n",
    "def Zera_Matriz(matriz): \n",
    "\n",
    "    VMLA = 5 \n",
    "\n",
    "    for L in range(3): \n",
    "\n",
    "        SomaLinha = 0 \n",
    "\n",
    "        for C in range(3): \n",
    "\n",
    "            SomaLinha = SomaLinha + matriz[L][C] \n",
    "\n",
    "            if matriz[L][C] < VMLA : \n",
    "\n",
    "                matriz[L][C] = 0 \n",
    "\n",
    "        VMLA = SomaLinha / 3 \n",
    "\n",
    " \n",
    "\n",
    "def Mostra_Matriz(matriz): \n",
    "\n",
    "    arquivo = open('DadosAlterados.txt','w') \n",
    "\n",
    "    print('Matriz modificada:') \n",
    "\n",
    "    for L in range(3): \n",
    "\n",
    "        LinhaNova = str(matriz[L][0])+' '+str(matriz[L][1])+' '+str(matriz[L][2]) \n",
    "\n",
    "        print(LinhaNova) \n",
    "\n",
    "        arquivo.write(LinhaNova) \n",
    "\n",
    "    arquivo.close()        "
   ]
  },
  {
   "cell_type": "code",
   "execution_count": 8,
   "metadata": {},
   "outputs": [],
   "source": [
    "matriz = [[1,1,1],[2,2,2],[3,3,3]]"
   ]
  },
  {
   "cell_type": "code",
   "execution_count": 13,
   "metadata": {},
   "outputs": [
    {
     "name": "stdout",
     "output_type": "stream",
     "text": [
      "soma da linha: 0\n",
      "valor: 0\n",
      "soma da linha: 1\n",
      "valor: 1\n",
      "soma da linha: 2\n",
      "valor: 2\n",
      "soma da linha: 0\n",
      "valor: 0\n",
      "soma da linha: 2\n",
      "valor: 2\n",
      "soma da linha: 4\n",
      "valor: 4\n",
      "soma da linha: 0\n",
      "valor: 0\n",
      "soma da linha: 3\n",
      "valor: 3\n",
      "soma da linha: 6\n",
      "valor: 6\n"
     ]
    }
   ],
   "source": [
    "\n",
    "for L in range(3):\n",
    "    somalinha = 0\n",
    "    for C in range(3):\n",
    "        value = matriz[L][C]\n",
    "        print(f'soma da linha: {somalinha}')\n",
    "        print(f'valor: {somalinha}')\n",
    "        somalinha = somalinha + matriz[L][C]\n"
   ]
  },
  {
   "cell_type": "code",
   "execution_count": 16,
   "metadata": {},
   "outputs": [
    {
     "data": {
      "text/plain": [
       "2"
      ]
     },
     "execution_count": 16,
     "metadata": {},
     "output_type": "execute_result"
    }
   ],
   "source": [
    "matriz[1][0]"
   ]
  }
 ],
 "metadata": {
  "kernelspec": {
   "display_name": "base",
   "language": "python",
   "name": "python3"
  },
  "language_info": {
   "codemirror_mode": {
    "name": "ipython",
    "version": 3
   },
   "file_extension": ".py",
   "mimetype": "text/x-python",
   "name": "python",
   "nbconvert_exporter": "python",
   "pygments_lexer": "ipython3",
   "version": "3.9.7"
  }
 },
 "nbformat": 4,
 "nbformat_minor": 2
}
